{
 "cells": [
  {
   "cell_type": "markdown",
   "metadata": {},
   "source": [
    "# Practical Considerations With Correlation\n",
    "\n",
    "The way we choose to numerical represent our data matters for the kinds of conclusions that we might be search for. \"Featurization\" is the process of taking real world, often tabular, and turning it into numerical values to calculate things like correlation.\n",
    "\n",
    "## Categorical Data\n",
    "Let's consider the example from assignment 1, where we have a voter roll and two surveys. Here is some code that loads the data and combines the dataset together:"
   ]
  },
  {
   "cell_type": "code",
   "execution_count": 42,
   "metadata": {},
   "outputs": [
    {
     "data": {
      "text/html": [
       "<div>\n",
       "<style scoped>\n",
       "    .dataframe tbody tr th:only-of-type {\n",
       "        vertical-align: middle;\n",
       "    }\n",
       "\n",
       "    .dataframe tbody tr th {\n",
       "        vertical-align: top;\n",
       "    }\n",
       "\n",
       "    .dataframe thead th {\n",
       "        text-align: right;\n",
       "    }\n",
       "</style>\n",
       "<table border=\"1\" class=\"dataframe\">\n",
       "  <thead>\n",
       "    <tr style=\"text-align: right;\">\n",
       "      <th></th>\n",
       "      <th>Voter</th>\n",
       "      <th>Vote</th>\n",
       "      <th>Gender</th>\n",
       "      <th>Age</th>\n",
       "      <th>County</th>\n",
       "    </tr>\n",
       "  </thead>\n",
       "  <tbody>\n",
       "    <tr>\n",
       "      <th>0</th>\n",
       "      <td>Robert Wiltse</td>\n",
       "      <td>Genevieve Gallegos</td>\n",
       "      <td>male</td>\n",
       "      <td>46-55</td>\n",
       "      <td>Mountain Farm</td>\n",
       "    </tr>\n",
       "    <tr>\n",
       "      <th>1</th>\n",
       "      <td>Ellen Delrio</td>\n",
       "      <td>Pearle Goodman</td>\n",
       "      <td>female</td>\n",
       "      <td>56-65</td>\n",
       "      <td>Mountain Farm</td>\n",
       "    </tr>\n",
       "    <tr>\n",
       "      <th>2</th>\n",
       "      <td>Armando Dawson</td>\n",
       "      <td>Genevieve Gallegos</td>\n",
       "      <td>male</td>\n",
       "      <td>65+</td>\n",
       "      <td>Mountain Farm</td>\n",
       "    </tr>\n",
       "    <tr>\n",
       "      <th>3</th>\n",
       "      <td>Sarah Ybarra</td>\n",
       "      <td>Masako Holley</td>\n",
       "      <td>female</td>\n",
       "      <td>56-65</td>\n",
       "      <td>Mountain Farm</td>\n",
       "    </tr>\n",
       "    <tr>\n",
       "      <th>4</th>\n",
       "      <td>Roger Taylor</td>\n",
       "      <td>Genevieve Gallegos</td>\n",
       "      <td>male</td>\n",
       "      <td>46-55</td>\n",
       "      <td>Mountain Farm</td>\n",
       "    </tr>\n",
       "  </tbody>\n",
       "</table>\n",
       "</div>"
      ],
      "text/plain": [
       "            Voter                Vote  Gender    Age         County\n",
       "0   Robert Wiltse  Genevieve Gallegos    male  46-55  Mountain Farm\n",
       "1    Ellen Delrio      Pearle Goodman  female  56-65  Mountain Farm\n",
       "2  Armando Dawson  Genevieve Gallegos    male    65+  Mountain Farm\n",
       "3    Sarah Ybarra       Masako Holley  female  56-65  Mountain Farm\n",
       "4    Roger Taylor  Genevieve Gallegos    male  46-55  Mountain Farm"
      ]
     },
     "execution_count": 42,
     "metadata": {},
     "output_type": "execute_result"
    }
   ],
   "source": [
    "import pandas as pd\n",
    "\n",
    "voter_roll = pd.read_csv('voters.csv')\n",
    "survey_monkey = pd.read_csv('survey_monkey.csv')\n",
    "qualtrics = pd.read_csv('qualtrics.csv')\n",
    "\n",
    "\n",
    "#the voter roll contains duplicate names due to a bug (my fault :( ), let's remove them\n",
    "def remove_duplicate_rows(df):\n",
    "    #get counts per name\n",
    "    name_cts = df.groupby('Voter')['Voter'].count()\n",
    "    \n",
    "    #find all counts greater than or equal to 2\n",
    "    dups = name_cts[name_cts >= 2]\n",
    "    \n",
    "    indexes_to_remove = []\n",
    "    for d in dups.index:\n",
    "        dup_pair = voter_roll[ voter_roll['Voter'] == d]\n",
    "        first_index = dup_pair.index[0]\n",
    "        indexes_to_remove.append(first_index)\n",
    "    \n",
    "    df_cpy = df.drop(indexes_to_remove)\n",
    "    return df_cpy\n",
    "\n",
    "#merge the datasets\n",
    "voter_roll = remove_duplicate_rows(voter_roll)\n",
    "survey_monkey = survey_monkey.merge(voter_roll, on='Voter')\n",
    "qualtrics = qualtrics.merge(voter_roll, on='Voter')\n",
    "\n",
    "combined_dataset = pd.concat([survey_monkey, qualtrics])\n",
    "combined_dataset[:5]"
   ]
  },
  {
   "cell_type": "markdown",
   "metadata": {},
   "source": [
    "Let's try to understand how gender correlates with candidate. We can do this inuitively by breaking down the variables:"
   ]
  },
  {
   "cell_type": "code",
   "execution_count": 44,
   "metadata": {},
   "outputs": [
    {
     "data": {
      "text/html": [
       "<div>\n",
       "<style scoped>\n",
       "    .dataframe tbody tr th:only-of-type {\n",
       "        vertical-align: middle;\n",
       "    }\n",
       "\n",
       "    .dataframe tbody tr th {\n",
       "        vertical-align: top;\n",
       "    }\n",
       "\n",
       "    .dataframe thead th {\n",
       "        text-align: right;\n",
       "    }\n",
       "</style>\n",
       "<table border=\"1\" class=\"dataframe\">\n",
       "  <thead>\n",
       "    <tr style=\"text-align: right;\">\n",
       "      <th></th>\n",
       "      <th></th>\n",
       "      <th>Vote</th>\n",
       "      <th>Gender</th>\n",
       "    </tr>\n",
       "    <tr>\n",
       "      <th>Vote</th>\n",
       "      <th>Gender</th>\n",
       "      <th></th>\n",
       "      <th></th>\n",
       "    </tr>\n",
       "  </thead>\n",
       "  <tbody>\n",
       "    <tr>\n",
       "      <th rowspan=\"2\" valign=\"top\">Genevieve Gallegos</th>\n",
       "      <th>female</th>\n",
       "      <td>7</td>\n",
       "      <td>7</td>\n",
       "    </tr>\n",
       "    <tr>\n",
       "      <th>male</th>\n",
       "      <td>73</td>\n",
       "      <td>73</td>\n",
       "    </tr>\n",
       "    <tr>\n",
       "      <th rowspan=\"2\" valign=\"top\">Masako Holley</th>\n",
       "      <th>female</th>\n",
       "      <td>36</td>\n",
       "      <td>36</td>\n",
       "    </tr>\n",
       "    <tr>\n",
       "      <th>male</th>\n",
       "      <td>24</td>\n",
       "      <td>24</td>\n",
       "    </tr>\n",
       "    <tr>\n",
       "      <th rowspan=\"2\" valign=\"top\">Pearle Goodman</th>\n",
       "      <th>female</th>\n",
       "      <td>1</td>\n",
       "      <td>1</td>\n",
       "    </tr>\n",
       "    <tr>\n",
       "      <th>male</th>\n",
       "      <td>9</td>\n",
       "      <td>9</td>\n",
       "    </tr>\n",
       "  </tbody>\n",
       "</table>\n",
       "</div>"
      ],
      "text/plain": [
       "                           Vote  Gender\n",
       "Vote               Gender              \n",
       "Genevieve Gallegos female     7       7\n",
       "                   male      73      73\n",
       "Masako Holley      female    36      36\n",
       "                   male      24      24\n",
       "Pearle Goodman     female     1       1\n",
       "                   male       9       9"
      ]
     },
     "execution_count": 44,
     "metadata": {},
     "output_type": "execute_result"
    }
   ],
   "source": [
    "combined_dataset.groupby(['Vote', 'Gender'])['Vote', 'Gender'].count()"
   ]
  },
  {
   "cell_type": "markdown",
   "metadata": {},
   "source": [
    "However, what if we wanted to have a measure for how strong this correlation is? For any categorical variable, we can create dummy binary cols that encode the presence of each of the possible values it could take. For example,"
   ]
  },
  {
   "cell_type": "code",
   "execution_count": 45,
   "metadata": {},
   "outputs": [
    {
     "data": {
      "text/html": [
       "<div>\n",
       "<style scoped>\n",
       "    .dataframe tbody tr th:only-of-type {\n",
       "        vertical-align: middle;\n",
       "    }\n",
       "\n",
       "    .dataframe tbody tr th {\n",
       "        vertical-align: top;\n",
       "    }\n",
       "\n",
       "    .dataframe thead th {\n",
       "        text-align: right;\n",
       "    }\n",
       "</style>\n",
       "<table border=\"1\" class=\"dataframe\">\n",
       "  <thead>\n",
       "    <tr style=\"text-align: right;\">\n",
       "      <th></th>\n",
       "      <th>Voter</th>\n",
       "      <th>Vote</th>\n",
       "      <th>Gender</th>\n",
       "      <th>Age</th>\n",
       "      <th>County</th>\n",
       "      <th>voted_for_g</th>\n",
       "      <th>voted_for_m</th>\n",
       "      <th>voted_for_p</th>\n",
       "      <th>gender_m</th>\n",
       "      <th>gender_f</th>\n",
       "    </tr>\n",
       "  </thead>\n",
       "  <tbody>\n",
       "    <tr>\n",
       "      <th>0</th>\n",
       "      <td>Robert Wiltse</td>\n",
       "      <td>Genevieve Gallegos</td>\n",
       "      <td>male</td>\n",
       "      <td>46-55</td>\n",
       "      <td>Mountain Farm</td>\n",
       "      <td>1.0</td>\n",
       "      <td>0.0</td>\n",
       "      <td>0.0</td>\n",
       "      <td>1.0</td>\n",
       "      <td>0.0</td>\n",
       "    </tr>\n",
       "    <tr>\n",
       "      <th>1</th>\n",
       "      <td>Ellen Delrio</td>\n",
       "      <td>Pearle Goodman</td>\n",
       "      <td>female</td>\n",
       "      <td>56-65</td>\n",
       "      <td>Mountain Farm</td>\n",
       "      <td>0.0</td>\n",
       "      <td>0.0</td>\n",
       "      <td>1.0</td>\n",
       "      <td>0.0</td>\n",
       "      <td>1.0</td>\n",
       "    </tr>\n",
       "    <tr>\n",
       "      <th>2</th>\n",
       "      <td>Armando Dawson</td>\n",
       "      <td>Genevieve Gallegos</td>\n",
       "      <td>male</td>\n",
       "      <td>65+</td>\n",
       "      <td>Mountain Farm</td>\n",
       "      <td>1.0</td>\n",
       "      <td>0.0</td>\n",
       "      <td>0.0</td>\n",
       "      <td>1.0</td>\n",
       "      <td>0.0</td>\n",
       "    </tr>\n",
       "    <tr>\n",
       "      <th>3</th>\n",
       "      <td>Sarah Ybarra</td>\n",
       "      <td>Masako Holley</td>\n",
       "      <td>female</td>\n",
       "      <td>56-65</td>\n",
       "      <td>Mountain Farm</td>\n",
       "      <td>0.0</td>\n",
       "      <td>1.0</td>\n",
       "      <td>0.0</td>\n",
       "      <td>0.0</td>\n",
       "      <td>1.0</td>\n",
       "    </tr>\n",
       "    <tr>\n",
       "      <th>4</th>\n",
       "      <td>Roger Taylor</td>\n",
       "      <td>Genevieve Gallegos</td>\n",
       "      <td>male</td>\n",
       "      <td>46-55</td>\n",
       "      <td>Mountain Farm</td>\n",
       "      <td>1.0</td>\n",
       "      <td>0.0</td>\n",
       "      <td>0.0</td>\n",
       "      <td>1.0</td>\n",
       "      <td>0.0</td>\n",
       "    </tr>\n",
       "  </tbody>\n",
       "</table>\n",
       "</div>"
      ],
      "text/plain": [
       "            Voter                Vote  Gender    Age         County  \\\n",
       "0   Robert Wiltse  Genevieve Gallegos    male  46-55  Mountain Farm   \n",
       "1    Ellen Delrio      Pearle Goodman  female  56-65  Mountain Farm   \n",
       "2  Armando Dawson  Genevieve Gallegos    male    65+  Mountain Farm   \n",
       "3    Sarah Ybarra       Masako Holley  female  56-65  Mountain Farm   \n",
       "4    Roger Taylor  Genevieve Gallegos    male  46-55  Mountain Farm   \n",
       "\n",
       "   voted_for_g  voted_for_m  voted_for_p  gender_m  gender_f  \n",
       "0          1.0          0.0          0.0       1.0       0.0  \n",
       "1          0.0          0.0          1.0       0.0       1.0  \n",
       "2          1.0          0.0          0.0       1.0       0.0  \n",
       "3          0.0          1.0          0.0       0.0       1.0  \n",
       "4          1.0          0.0          0.0       1.0       0.0  "
      ]
     },
     "execution_count": 45,
     "metadata": {},
     "output_type": "execute_result"
    }
   ],
   "source": [
    "combined_dataset['voted_for_g'] = 1.0*(combined_dataset['Vote'] == 'Genevieve Gallegos')\n",
    "combined_dataset['voted_for_m'] = 1.0*(combined_dataset['Vote'] == 'Masako Holley')\n",
    "combined_dataset['voted_for_p'] = 1.0*(combined_dataset['Vote'] == 'Pearle Goodman')\n",
    "\n",
    "combined_dataset['gender_m'] =  1.0*(combined_dataset['Gender'] == 'male')\n",
    "combined_dataset['gender_f'] =  1.0*(combined_dataset['Gender'] == 'female')\n",
    "combined_dataset[:5]"
   ]
  },
  {
   "cell_type": "markdown",
   "metadata": {},
   "source": [
    "The binary columns can be used to calculate numerical measures of correlation:"
   ]
  },
  {
   "cell_type": "code",
   "execution_count": 14,
   "metadata": {},
   "outputs": [
    {
     "data": {
      "text/plain": [
       "(0.11348924561549831, -0.11348924561549831)"
      ]
     },
     "execution_count": 14,
     "metadata": {},
     "output_type": "execute_result"
    }
   ],
   "source": [
    "import scipy.stats\n",
    "corr1 = scipy.stats.pearsonr(combined_dataset['voted_for_m'], combined_dataset['gender_m'])[0]\n",
    "corr2 = scipy.stats.pearsonr(combined_dataset['voted_for_m'], combined_dataset['gender_f'])[0]\n",
    "corr1, corr2"
   ]
  },
  {
   "cell_type": "code",
   "execution_count": 15,
   "metadata": {},
   "outputs": [
    {
     "data": {
      "text/plain": [
       "-1.0"
      ]
     },
     "execution_count": 15,
     "metadata": {},
     "output_type": "execute_result"
    }
   ],
   "source": [
    "scipy.stats.pearsonr(combined_dataset['gender_f'], combined_dataset['gender_m'])[0] #they are mutually exclusive!"
   ]
  },
  {
   "cell_type": "markdown",
   "metadata": {},
   "source": [
    "This type of encoding is called a One-Hot encoding and it is very useful for handling categorical variables with a small number of distinct values. We see that now we can calculate a meaningful correlation between categorical attributes.\n",
    "\n",
    "## Binning Numerical Variables\n",
    "\n",
    "The goal of featurization is how to represent data numerically to best use the quantitative tools at hand. This is even true if your data is already \"numerical\". Consider the following dataset that correlates Age with an Alzheimer Indicator:"
   ]
  },
  {
   "cell_type": "code",
   "execution_count": 46,
   "metadata": {},
   "outputs": [
    {
     "data": {
      "text/html": [
       "<div>\n",
       "<style scoped>\n",
       "    .dataframe tbody tr th:only-of-type {\n",
       "        vertical-align: middle;\n",
       "    }\n",
       "\n",
       "    .dataframe tbody tr th {\n",
       "        vertical-align: top;\n",
       "    }\n",
       "\n",
       "    .dataframe thead th {\n",
       "        text-align: right;\n",
       "    }\n",
       "</style>\n",
       "<table border=\"1\" class=\"dataframe\">\n",
       "  <thead>\n",
       "    <tr style=\"text-align: right;\">\n",
       "      <th></th>\n",
       "      <th>Age</th>\n",
       "      <th>Ind</th>\n",
       "    </tr>\n",
       "  </thead>\n",
       "  <tbody>\n",
       "    <tr>\n",
       "      <th>0</th>\n",
       "      <td>48</td>\n",
       "      <td>0.194743</td>\n",
       "    </tr>\n",
       "    <tr>\n",
       "      <th>1</th>\n",
       "      <td>56</td>\n",
       "      <td>0.363772</td>\n",
       "    </tr>\n",
       "    <tr>\n",
       "      <th>2</th>\n",
       "      <td>58</td>\n",
       "      <td>1.155571</td>\n",
       "    </tr>\n",
       "    <tr>\n",
       "      <th>3</th>\n",
       "      <td>46</td>\n",
       "      <td>0.995018</td>\n",
       "    </tr>\n",
       "    <tr>\n",
       "      <th>4</th>\n",
       "      <td>62</td>\n",
       "      <td>0.679212</td>\n",
       "    </tr>\n",
       "  </tbody>\n",
       "</table>\n",
       "</div>"
      ],
      "text/plain": [
       "   Age       Ind\n",
       "0   48  0.194743\n",
       "1   56  0.363772\n",
       "2   58  1.155571\n",
       "3   46  0.995018\n",
       "4   62  0.679212"
      ]
     },
     "execution_count": 46,
     "metadata": {},
     "output_type": "execute_result"
    }
   ],
   "source": [
    "df = pd.read_csv('alz.csv', delimiter=' ')\n",
    "df[:5]"
   ]
  },
  {
   "cell_type": "code",
   "execution_count": 47,
   "metadata": {},
   "outputs": [
    {
     "ename": "NameError",
     "evalue": "name 'scipy' is not defined",
     "output_type": "error",
     "traceback": [
      "\u001b[0;31m---------------------------------------------------------------------------\u001b[0m",
      "\u001b[0;31mNameError\u001b[0m                                 Traceback (most recent call last)",
      "\u001b[0;32m<ipython-input-47-e272bce36862>\u001b[0m in \u001b[0;36m<module>\u001b[0;34m\u001b[0m\n\u001b[1;32m      2\u001b[0m \u001b[0;32mimport\u001b[0m \u001b[0mmatplotlib\u001b[0m\u001b[0;34m.\u001b[0m\u001b[0mpyplot\u001b[0m \u001b[0;32mas\u001b[0m \u001b[0mplt\u001b[0m\u001b[0;34m\u001b[0m\u001b[0;34m\u001b[0m\u001b[0m\n\u001b[1;32m      3\u001b[0m \u001b[0;34m\u001b[0m\u001b[0m\n\u001b[0;32m----> 4\u001b[0;31m \u001b[0mcorr\u001b[0m \u001b[0;34m=\u001b[0m \u001b[0mscipy\u001b[0m\u001b[0;34m.\u001b[0m\u001b[0mstats\u001b[0m\u001b[0;34m.\u001b[0m\u001b[0mpearsonr\u001b[0m\u001b[0;34m(\u001b[0m\u001b[0mdf\u001b[0m\u001b[0;34m[\u001b[0m\u001b[0;34m'Age'\u001b[0m\u001b[0;34m]\u001b[0m\u001b[0;34m,\u001b[0m\u001b[0mdf\u001b[0m\u001b[0;34m[\u001b[0m\u001b[0;34m'Ind'\u001b[0m\u001b[0;34m]\u001b[0m\u001b[0;34m)\u001b[0m\u001b[0;34m[\u001b[0m\u001b[0;36m0\u001b[0m\u001b[0;34m]\u001b[0m\u001b[0;34m\u001b[0m\u001b[0;34m\u001b[0m\u001b[0m\n\u001b[0m\u001b[1;32m      5\u001b[0m \u001b[0;34m\u001b[0m\u001b[0m\n\u001b[1;32m      6\u001b[0m \u001b[0mplt\u001b[0m\u001b[0;34m.\u001b[0m\u001b[0mscatter\u001b[0m\u001b[0;34m(\u001b[0m\u001b[0mdf\u001b[0m\u001b[0;34m[\u001b[0m\u001b[0;34m'Age'\u001b[0m\u001b[0;34m]\u001b[0m\u001b[0;34m,\u001b[0m\u001b[0mdf\u001b[0m\u001b[0;34m[\u001b[0m\u001b[0;34m'Ind'\u001b[0m\u001b[0;34m]\u001b[0m\u001b[0;34m)\u001b[0m\u001b[0;34m\u001b[0m\u001b[0;34m\u001b[0m\u001b[0m\n",
      "\u001b[0;31mNameError\u001b[0m: name 'scipy' is not defined"
     ]
    }
   ],
   "source": [
    "%matplotlib inline\n",
    "import matplotlib.pyplot as plt\n",
    "\n",
    "corr = scipy.stats.pearsonr(df['Age'],df['Ind'])[0]\n",
    "\n",
    "plt.scatter(df['Age'],df['Ind'])\n",
    "plt.xlabel('X')\n",
    "plt.ylabel('Y')\n",
    "plt.title('Correleation = '+ str(corr))\n",
    "plt.show()"
   ]
  },
  {
   "cell_type": "code",
   "execution_count": 51,
   "metadata": {},
   "outputs": [
    {
     "data": {
      "text/html": [
       "<div>\n",
       "<style scoped>\n",
       "    .dataframe tbody tr th:only-of-type {\n",
       "        vertical-align: middle;\n",
       "    }\n",
       "\n",
       "    .dataframe tbody tr th {\n",
       "        vertical-align: top;\n",
       "    }\n",
       "\n",
       "    .dataframe thead th {\n",
       "        text-align: right;\n",
       "    }\n",
       "</style>\n",
       "<table border=\"1\" class=\"dataframe\">\n",
       "  <thead>\n",
       "    <tr style=\"text-align: right;\">\n",
       "      <th></th>\n",
       "      <th>Age</th>\n",
       "      <th>Ind</th>\n",
       "      <th>Age_binned</th>\n",
       "    </tr>\n",
       "  </thead>\n",
       "  <tbody>\n",
       "    <tr>\n",
       "      <th>0</th>\n",
       "      <td>48</td>\n",
       "      <td>0.194743</td>\n",
       "      <td>(40.0, 53.0]</td>\n",
       "    </tr>\n",
       "    <tr>\n",
       "      <th>1</th>\n",
       "      <td>56</td>\n",
       "      <td>0.363772</td>\n",
       "      <td>(53.0, 66.0]</td>\n",
       "    </tr>\n",
       "    <tr>\n",
       "      <th>2</th>\n",
       "      <td>58</td>\n",
       "      <td>1.155571</td>\n",
       "      <td>(53.0, 66.0]</td>\n",
       "    </tr>\n",
       "    <tr>\n",
       "      <th>3</th>\n",
       "      <td>46</td>\n",
       "      <td>0.995018</td>\n",
       "      <td>(40.0, 53.0]</td>\n",
       "    </tr>\n",
       "    <tr>\n",
       "      <th>4</th>\n",
       "      <td>62</td>\n",
       "      <td>0.679212</td>\n",
       "      <td>(53.0, 66.0]</td>\n",
       "    </tr>\n",
       "  </tbody>\n",
       "</table>\n",
       "</div>"
      ],
      "text/plain": [
       "   Age       Ind    Age_binned\n",
       "0   48  0.194743  (40.0, 53.0]\n",
       "1   56  0.363772  (53.0, 66.0]\n",
       "2   58  1.155571  (53.0, 66.0]\n",
       "3   46  0.995018  (40.0, 53.0]\n",
       "4   62  0.679212  (53.0, 66.0]"
      ]
     },
     "execution_count": 51,
     "metadata": {},
     "output_type": "execute_result"
    }
   ],
   "source": [
    "df['Age_binned'] = pd.cut(df['Age'], bins=4)\n",
    "df[:5]"
   ]
  },
  {
   "cell_type": "code",
   "execution_count": 52,
   "metadata": {},
   "outputs": [
    {
     "data": {
      "text/html": [
       "<div>\n",
       "<style scoped>\n",
       "    .dataframe tbody tr th:only-of-type {\n",
       "        vertical-align: middle;\n",
       "    }\n",
       "\n",
       "    .dataframe tbody tr th {\n",
       "        vertical-align: top;\n",
       "    }\n",
       "\n",
       "    .dataframe thead th {\n",
       "        text-align: right;\n",
       "    }\n",
       "</style>\n",
       "<table border=\"1\" class=\"dataframe\">\n",
       "  <thead>\n",
       "    <tr style=\"text-align: right;\">\n",
       "      <th></th>\n",
       "      <th>Age</th>\n",
       "      <th>Ind</th>\n",
       "      <th>Age_binned</th>\n",
       "    </tr>\n",
       "  </thead>\n",
       "  <tbody>\n",
       "    <tr>\n",
       "      <th>0</th>\n",
       "      <td>48</td>\n",
       "      <td>0.194743</td>\n",
       "      <td>(0, 55]</td>\n",
       "    </tr>\n",
       "    <tr>\n",
       "      <th>1</th>\n",
       "      <td>56</td>\n",
       "      <td>0.363772</td>\n",
       "      <td>(55, 100]</td>\n",
       "    </tr>\n",
       "    <tr>\n",
       "      <th>2</th>\n",
       "      <td>58</td>\n",
       "      <td>1.155571</td>\n",
       "      <td>(55, 100]</td>\n",
       "    </tr>\n",
       "    <tr>\n",
       "      <th>3</th>\n",
       "      <td>46</td>\n",
       "      <td>0.995018</td>\n",
       "      <td>(0, 55]</td>\n",
       "    </tr>\n",
       "    <tr>\n",
       "      <th>4</th>\n",
       "      <td>62</td>\n",
       "      <td>0.679212</td>\n",
       "      <td>(55, 100]</td>\n",
       "    </tr>\n",
       "  </tbody>\n",
       "</table>\n",
       "</div>"
      ],
      "text/plain": [
       "   Age       Ind Age_binned\n",
       "0   48  0.194743    (0, 55]\n",
       "1   56  0.363772  (55, 100]\n",
       "2   58  1.155571  (55, 100]\n",
       "3   46  0.995018    (0, 55]\n",
       "4   62  0.679212  (55, 100]"
      ]
     },
     "execution_count": 52,
     "metadata": {},
     "output_type": "execute_result"
    }
   ],
   "source": [
    "bins = pd.IntervalIndex.from_tuples([(0, 55), (55, 100)])\n",
    "df['Age_binned'] = pd.cut(df['Age'], bins=bins)\n",
    "df[:5]"
   ]
  },
  {
   "cell_type": "code",
   "execution_count": 53,
   "metadata": {},
   "outputs": [
    {
     "data": {
      "text/html": [
       "<div>\n",
       "<style scoped>\n",
       "    .dataframe tbody tr th:only-of-type {\n",
       "        vertical-align: middle;\n",
       "    }\n",
       "\n",
       "    .dataframe tbody tr th {\n",
       "        vertical-align: top;\n",
       "    }\n",
       "\n",
       "    .dataframe thead th {\n",
       "        text-align: right;\n",
       "    }\n",
       "</style>\n",
       "<table border=\"1\" class=\"dataframe\">\n",
       "  <thead>\n",
       "    <tr style=\"text-align: right;\">\n",
       "      <th></th>\n",
       "      <th>Age</th>\n",
       "      <th>Ind</th>\n",
       "      <th>Age_binned</th>\n",
       "    </tr>\n",
       "  </thead>\n",
       "  <tbody>\n",
       "    <tr>\n",
       "      <th>0</th>\n",
       "      <td>48</td>\n",
       "      <td>0.194743</td>\n",
       "      <td>(40, 54]</td>\n",
       "    </tr>\n",
       "    <tr>\n",
       "      <th>1</th>\n",
       "      <td>56</td>\n",
       "      <td>0.363772</td>\n",
       "      <td>(55, 70]</td>\n",
       "    </tr>\n",
       "    <tr>\n",
       "      <th>2</th>\n",
       "      <td>58</td>\n",
       "      <td>1.155571</td>\n",
       "      <td>(55, 70]</td>\n",
       "    </tr>\n",
       "    <tr>\n",
       "      <th>3</th>\n",
       "      <td>46</td>\n",
       "      <td>0.995018</td>\n",
       "      <td>(40, 54]</td>\n",
       "    </tr>\n",
       "    <tr>\n",
       "      <th>4</th>\n",
       "      <td>62</td>\n",
       "      <td>0.679212</td>\n",
       "      <td>(55, 70]</td>\n",
       "    </tr>\n",
       "  </tbody>\n",
       "</table>\n",
       "</div>"
      ],
      "text/plain": [
       "   Age       Ind Age_binned\n",
       "0   48  0.194743   (40, 54]\n",
       "1   56  0.363772   (55, 70]\n",
       "2   58  1.155571   (55, 70]\n",
       "3   46  0.995018   (40, 54]\n",
       "4   62  0.679212   (55, 70]"
      ]
     },
     "execution_count": 53,
     "metadata": {},
     "output_type": "execute_result"
    }
   ],
   "source": [
    "bins = pd.IntervalIndex.from_tuples([(0, 40), (40, 54), (55,70), (70,100)])\n",
    "df['Age_binned'], bins = pd.cut(df['Age'], bins=bins,retbins=True)\n",
    "df[:5]"
   ]
  },
  {
   "cell_type": "code",
   "execution_count": 55,
   "metadata": {},
   "outputs": [
    {
     "name": "stdout",
     "output_type": "stream",
     "text": [
      "Bin: (0, 40] Corr= -0.15927303133530316\n",
      "Bin: (40, 54] Corr= -0.1889297871800505\n",
      "Bin: (55, 70] Corr= 0.24388835227035674\n",
      "Bin: (70, 100] Corr= 0.2786272366517293\n"
     ]
    }
   ],
   "source": [
    "for b in bins:\n",
    "    corr = scipy.stats.pearsonr(1.0*(df['Age_binned'] == b),df['Ind'])[0]\n",
    "    print(\"Bin:\", b, 'Corr=', corr )"
   ]
  },
  {
   "cell_type": "markdown",
   "metadata": {},
   "source": [
    "## Dealing With String Data\n",
    "Sometimes your data isn't numerical or categorical and it is simply string data like free form comments etc. Refer to the following references:\n",
    "\n",
    "* https://en.wikipedia.org/wiki/Bag-of-words_model\n",
    "* https://en.wikipedia.org/wiki/Tf%E2%80%93idf\n",
    "* https://en.wikipedia.org/wiki/Word2vec"
   ]
  },
  {
   "cell_type": "code",
   "execution_count": 49,
   "metadata": {},
   "outputs": [
    {
     "data": {
      "text/plain": [
       "array([[0, 1, 1, 1, 0, 0, 1, 0, 1],\n",
       "       [0, 1, 0, 1, 0, 2, 1, 0, 1],\n",
       "       [1, 0, 0, 0, 1, 0, 1, 1, 0],\n",
       "       [0, 1, 1, 1, 0, 0, 1, 0, 1]])"
      ]
     },
     "execution_count": 49,
     "metadata": {},
     "output_type": "execute_result"
    }
   ],
   "source": [
    "from sklearn.feature_extraction.text import CountVectorizer\n",
    "vectorizer = CountVectorizer()\n",
    "corpus = [\n",
    "     'This is the first document.',\n",
    "     'This is the second second document.',\n",
    "     'And the third one.',\n",
    "    'Is this the first document?']\n",
    "\n",
    "X = vectorizer.fit_transform(corpus)\n",
    "X.toarray()"
   ]
  },
  {
   "cell_type": "code",
   "execution_count": 50,
   "metadata": {},
   "outputs": [
    {
     "data": {
      "text/plain": [
       "['and', 'document', 'first', 'is', 'one', 'second', 'the', 'third', 'this']"
      ]
     },
     "execution_count": 50,
     "metadata": {},
     "output_type": "execute_result"
    }
   ],
   "source": [
    "vectorizer.get_feature_names()"
   ]
  },
  {
   "cell_type": "code",
   "execution_count": 51,
   "metadata": {},
   "outputs": [
    {
     "data": {
      "text/plain": [
       "['cow', 'dog', 'fox', 'jumped', 'moon']"
      ]
     },
     "execution_count": 51,
     "metadata": {},
     "output_type": "execute_result"
    }
   ],
   "source": [
    "vectorizer = CountVectorizer(stop_words='english', min_df=2)\n",
    "corpus = [\n",
    "     'The quick brown fox jumped over the lazy dog',\n",
    "     'The dog and the fox are friends',\n",
    "     'The fox likes the dog and the moon',\n",
    "    'The cow jumped over the moon',\n",
    "    'Cow under the moon',\n",
    "    'The cow and the moon']\n",
    "\n",
    "X = vectorizer.fit_transform(corpus)\n",
    "vectorizer.get_feature_names()"
   ]
  },
  {
   "cell_type": "code",
   "execution_count": 52,
   "metadata": {},
   "outputs": [
    {
     "data": {
      "text/plain": [
       "array([[0, 1, 1, 1, 0],\n",
       "       [0, 1, 1, 0, 0],\n",
       "       [0, 1, 1, 0, 1],\n",
       "       [1, 0, 0, 1, 1],\n",
       "       [1, 0, 0, 0, 1],\n",
       "       [1, 0, 0, 0, 1]])"
      ]
     },
     "execution_count": 52,
     "metadata": {},
     "output_type": "execute_result"
    }
   ],
   "source": [
    "X.toarray()"
   ]
  },
  {
   "cell_type": "code",
   "execution_count": 55,
   "metadata": {},
   "outputs": [
    {
     "name": "stdout",
     "output_type": "stream",
     "text": [
      "jumped cow 0.0\n",
      "jumped dog 0.0\n",
      "jumped fox 0.0\n",
      "moon jumped -0.24999999999999994\n"
     ]
    }
   ],
   "source": [
    "import numpy as np\n",
    "R = np.corrcoef(X.toarray().T)\n",
    "\n",
    "\n",
    "for i, namei in enumerate(vectorizer.get_feature_names()):\n",
    "    for j, namej in enumerate(vectorizer.get_feature_names()):\n",
    "        \n",
    "        if np.abs(R[i,j]) < 0.25 and i > j:\n",
    "            print(namei, namej, R[i,j])\n",
    "    "
   ]
  },
  {
   "cell_type": "code",
   "execution_count": 36,
   "metadata": {},
   "outputs": [],
   "source": []
  },
  {
   "cell_type": "code",
   "execution_count": null,
   "metadata": {},
   "outputs": [],
   "source": []
  },
  {
   "cell_type": "code",
   "execution_count": null,
   "metadata": {},
   "outputs": [],
   "source": []
  }
 ],
 "metadata": {
  "kernelspec": {
   "display_name": "Python 3",
   "language": "python",
   "name": "python3"
  },
  "language_info": {
   "codemirror_mode": {
    "name": "ipython",
    "version": 3
   },
   "file_extension": ".py",
   "mimetype": "text/x-python",
   "name": "python",
   "nbconvert_exporter": "python",
   "pygments_lexer": "ipython3",
   "version": "3.7.4"
  }
 },
 "nbformat": 4,
 "nbformat_minor": 2
}
