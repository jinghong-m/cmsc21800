{
 "cells": [
  {
   "cell_type": "markdown",
   "metadata": {},
   "source": [
    "# Assignment 2: Hypothesis Testing\n",
    "\n",
    "*Due*: Wed, Nov 13, 2019 in class\n",
    "\n",
    "*Submission*: Complete this notebook and print out the output or electronically submit it. \n",
    "\n",
    "Everything you need to complete is marked with a TODO. For textual questions create a new cell under the question to respond to it.\n",
    "\n",
    "\n",
    "## Motivation\n",
    "In a standard randomized control trial, our null hypothesis is often trivial---nothing happens, no difference in the mean, no difference in the relative ranking. In this assignment, we look to generalize this idea to compare observed data against an assumed statistical model. That is, could the observed data plausibly be generated from the known model.\n",
    "\n",
    "\n",
    "An air shower is a cascade of ionized particles and electromagnetic radiation produced in the atmosphere when a primary cosmic ray (i.e. one of extraterrestrial origin) enters the atmosphere. When a particle, which could be a proton, a nucleus, an electron, a photon, or (rarely) a positron, strikes an atom's nucleus in the air it produces many energetic hadrons. We have a detector that observes particles that reach a ground station and measures the particle energy and arrival time.\n",
    "\n",
    "## Model and Data\n",
    "We have the following theoretical model to describe particle behavior. The energy of each particle is drawn independent of arrival time from a [Gamma Distribution](https://en.wikipedia.org/wiki/Gamma_distribution). The particles arrive as a [Poisson process](https://en.wikipedia.org/wiki/Poisson_point_process). We have the following simulator:"
   ]
  },
  {
   "cell_type": "code",
   "execution_count": 3,
   "metadata": {},
   "outputs": [
    {
     "data": {
      "text/html": [
       "<div>\n",
       "<style scoped>\n",
       "    .dataframe tbody tr th:only-of-type {\n",
       "        vertical-align: middle;\n",
       "    }\n",
       "\n",
       "    .dataframe tbody tr th {\n",
       "        vertical-align: top;\n",
       "    }\n",
       "\n",
       "    .dataframe thead th {\n",
       "        text-align: right;\n",
       "    }\n",
       "</style>\n",
       "<table border=\"1\" class=\"dataframe\">\n",
       "  <thead>\n",
       "    <tr style=\"text-align: right;\">\n",
       "      <th></th>\n",
       "      <th>otime_us</th>\n",
       "      <th>energy_kj</th>\n",
       "    </tr>\n",
       "  </thead>\n",
       "  <tbody>\n",
       "    <tr>\n",
       "      <th>0</th>\n",
       "      <td>0.685612</td>\n",
       "      <td>5.178483</td>\n",
       "    </tr>\n",
       "    <tr>\n",
       "      <th>1</th>\n",
       "      <td>0.952404</td>\n",
       "      <td>5.741685</td>\n",
       "    </tr>\n",
       "    <tr>\n",
       "      <th>2</th>\n",
       "      <td>1.502043</td>\n",
       "      <td>1.680501</td>\n",
       "    </tr>\n",
       "    <tr>\n",
       "      <th>3</th>\n",
       "      <td>1.540914</td>\n",
       "      <td>3.771643</td>\n",
       "    </tr>\n",
       "    <tr>\n",
       "      <th>4</th>\n",
       "      <td>4.275446</td>\n",
       "      <td>3.646512</td>\n",
       "    </tr>\n",
       "    <tr>\n",
       "      <th>...</th>\n",
       "      <td>...</td>\n",
       "      <td>...</td>\n",
       "    </tr>\n",
       "    <tr>\n",
       "      <th>95</th>\n",
       "      <td>91.236333</td>\n",
       "      <td>5.672314</td>\n",
       "    </tr>\n",
       "    <tr>\n",
       "      <th>96</th>\n",
       "      <td>92.086414</td>\n",
       "      <td>3.486321</td>\n",
       "    </tr>\n",
       "    <tr>\n",
       "      <th>97</th>\n",
       "      <td>93.856540</td>\n",
       "      <td>5.960679</td>\n",
       "    </tr>\n",
       "    <tr>\n",
       "      <th>98</th>\n",
       "      <td>95.092457</td>\n",
       "      <td>0.857877</td>\n",
       "    </tr>\n",
       "    <tr>\n",
       "      <th>99</th>\n",
       "      <td>95.216973</td>\n",
       "      <td>3.251267</td>\n",
       "    </tr>\n",
       "  </tbody>\n",
       "</table>\n",
       "<p>100 rows × 2 columns</p>\n",
       "</div>"
      ],
      "text/plain": [
       "     otime_us  energy_kj\n",
       "0    0.685612   5.178483\n",
       "1    0.952404   5.741685\n",
       "2    1.502043   1.680501\n",
       "3    1.540914   3.771643\n",
       "4    4.275446   3.646512\n",
       "..        ...        ...\n",
       "95  91.236333   5.672314\n",
       "96  92.086414   3.486321\n",
       "97  93.856540   5.960679\n",
       "98  95.092457   0.857877\n",
       "99  95.216973   3.251267\n",
       "\n",
       "[100 rows x 2 columns]"
      ]
     },
     "execution_count": 3,
     "metadata": {},
     "output_type": "execute_result"
    }
   ],
   "source": [
    "import numpy as np\n",
    "import pandas as pd\n",
    "\n",
    "def simulate_burst(total):\n",
    "    \"\"\"Simulates a trial of total # of particles returns\n",
    "       a dataframe with two columns one with observed time (in microsecs)\n",
    "       and one with the energy in kilojoules.\n",
    "    \"\"\"\n",
    "    t = 0\n",
    "    data = []\n",
    "    for trial in range(total):\n",
    "        t += np.random.exponential(scale=1.0)\n",
    "        obs = np.random.gamma(2.15,1.96, 1)[0]\n",
    "        \n",
    "        data.append({'otime_us':t, 'energy_kj':obs})\n",
    "    \n",
    "    return pd.DataFrame(data)\n",
    "\n",
    "simulate_burst(100)"
   ]
  },
  {
   "cell_type": "markdown",
   "metadata": {},
   "source": [
    "In addition to the simulator, you are given a daset of real observations [download](https://raw.githubusercontent.com/sjyk/cmsc21800/master/part.csv). You will write a function to load this dataset into a pandas dataframe. The dataset contains some missing values, the function should drop all rows with any missing values (i.e., NaN)"
   ]
  },
  {
   "cell_type": "code",
   "execution_count": 4,
   "metadata": {},
   "outputs": [
    {
     "data": {
      "text/html": [
       "<div>\n",
       "<style scoped>\n",
       "    .dataframe tbody tr th:only-of-type {\n",
       "        vertical-align: middle;\n",
       "    }\n",
       "\n",
       "    .dataframe tbody tr th {\n",
       "        vertical-align: top;\n",
       "    }\n",
       "\n",
       "    .dataframe thead th {\n",
       "        text-align: right;\n",
       "    }\n",
       "</style>\n",
       "<table border=\"1\" class=\"dataframe\">\n",
       "  <thead>\n",
       "    <tr style=\"text-align: right;\">\n",
       "      <th></th>\n",
       "      <th>otime_us</th>\n",
       "      <th>energy_kj</th>\n",
       "    </tr>\n",
       "  </thead>\n",
       "  <tbody>\n",
       "    <tr>\n",
       "      <th>0</th>\n",
       "      <td>0.940633</td>\n",
       "      <td>4.897721</td>\n",
       "    </tr>\n",
       "    <tr>\n",
       "      <th>1</th>\n",
       "      <td>1.559228</td>\n",
       "      <td>-128.000000</td>\n",
       "    </tr>\n",
       "    <tr>\n",
       "      <th>2</th>\n",
       "      <td>2.222809</td>\n",
       "      <td>0.122285</td>\n",
       "    </tr>\n",
       "    <tr>\n",
       "      <th>3</th>\n",
       "      <td>3.144400</td>\n",
       "      <td>9.691012</td>\n",
       "    </tr>\n",
       "    <tr>\n",
       "      <th>4</th>\n",
       "      <td>4.805632</td>\n",
       "      <td>2.356866</td>\n",
       "    </tr>\n",
       "    <tr>\n",
       "      <th>...</th>\n",
       "      <td>...</td>\n",
       "      <td>...</td>\n",
       "    </tr>\n",
       "    <tr>\n",
       "      <th>994</th>\n",
       "      <td>994.849265</td>\n",
       "      <td>3.151195</td>\n",
       "    </tr>\n",
       "    <tr>\n",
       "      <th>995</th>\n",
       "      <td>995.726746</td>\n",
       "      <td>2.719565</td>\n",
       "    </tr>\n",
       "    <tr>\n",
       "      <th>996</th>\n",
       "      <td>996.395580</td>\n",
       "      <td>0.153446</td>\n",
       "    </tr>\n",
       "    <tr>\n",
       "      <th>997</th>\n",
       "      <td>997.955123</td>\n",
       "      <td>3.958193</td>\n",
       "    </tr>\n",
       "    <tr>\n",
       "      <th>998</th>\n",
       "      <td>998.868280</td>\n",
       "      <td>7.836992</td>\n",
       "    </tr>\n",
       "  </tbody>\n",
       "</table>\n",
       "<p>996 rows × 2 columns</p>\n",
       "</div>"
      ],
      "text/plain": [
       "       otime_us   energy_kj\n",
       "0      0.940633    4.897721\n",
       "1      1.559228 -128.000000\n",
       "2      2.222809    0.122285\n",
       "3      3.144400    9.691012\n",
       "4      4.805632    2.356866\n",
       "..          ...         ...\n",
       "994  994.849265    3.151195\n",
       "995  995.726746    2.719565\n",
       "996  996.395580    0.153446\n",
       "997  997.955123    3.958193\n",
       "998  998.868280    7.836992\n",
       "\n",
       "[996 rows x 2 columns]"
      ]
     },
     "execution_count": 4,
     "metadata": {},
     "output_type": "execute_result"
    }
   ],
   "source": [
    "def load_data(filename):\n",
    "    \"\"\"Input: a csv file of airburst observations\n",
    "       Output: a pandas dataframe with no NaNs\n",
    "    \"\"\"\n",
    "    \n",
    "    df = pd.read_csv(filename, delimiter = ' ')#note the delimeter is a space\n",
    "    return df[~df['energy_kj'].isna()]\n",
    "\n",
    "df = load_data('part.csv')\n",
    "df"
   ]
  },
  {
   "cell_type": "markdown",
   "metadata": {},
   "source": [
    "## Pre-Processing"
   ]
  },
  {
   "cell_type": "markdown",
   "metadata": {},
   "source": [
    "Before, we begin testing, we show analyze the data for potential problems.\n",
    "\n",
    "Q1. TODO *Compare particle energies generated from the simulator and the real data. If they do differ, explain how.*"
   ]
  },
  {
   "cell_type": "code",
   "execution_count": 5,
   "metadata": {},
   "outputs": [
    {
     "data": {
      "text/html": [
       "<div>\n",
       "<style scoped>\n",
       "    .dataframe tbody tr th:only-of-type {\n",
       "        vertical-align: middle;\n",
       "    }\n",
       "\n",
       "    .dataframe tbody tr th {\n",
       "        vertical-align: top;\n",
       "    }\n",
       "\n",
       "    .dataframe thead th {\n",
       "        text-align: right;\n",
       "    }\n",
       "</style>\n",
       "<table border=\"1\" class=\"dataframe\">\n",
       "  <thead>\n",
       "    <tr style=\"text-align: right;\">\n",
       "      <th></th>\n",
       "      <th>otime_us</th>\n",
       "      <th>energy_kj</th>\n",
       "    </tr>\n",
       "  </thead>\n",
       "  <tbody>\n",
       "    <tr>\n",
       "      <th>count</th>\n",
       "      <td>1000.000000</td>\n",
       "      <td>1000.000000</td>\n",
       "    </tr>\n",
       "    <tr>\n",
       "      <th>mean</th>\n",
       "      <td>506.560277</td>\n",
       "      <td>4.247356</td>\n",
       "    </tr>\n",
       "    <tr>\n",
       "      <th>std</th>\n",
       "      <td>289.401569</td>\n",
       "      <td>2.871127</td>\n",
       "    </tr>\n",
       "    <tr>\n",
       "      <th>min</th>\n",
       "      <td>0.541664</td>\n",
       "      <td>0.066098</td>\n",
       "    </tr>\n",
       "    <tr>\n",
       "      <th>25%</th>\n",
       "      <td>266.499774</td>\n",
       "      <td>2.207631</td>\n",
       "    </tr>\n",
       "    <tr>\n",
       "      <th>50%</th>\n",
       "      <td>513.919807</td>\n",
       "      <td>3.554632</td>\n",
       "    </tr>\n",
       "    <tr>\n",
       "      <th>75%</th>\n",
       "      <td>741.870036</td>\n",
       "      <td>5.750241</td>\n",
       "    </tr>\n",
       "    <tr>\n",
       "      <th>max</th>\n",
       "      <td>1031.537303</td>\n",
       "      <td>17.050303</td>\n",
       "    </tr>\n",
       "  </tbody>\n",
       "</table>\n",
       "</div>"
      ],
      "text/plain": [
       "          otime_us    energy_kj\n",
       "count  1000.000000  1000.000000\n",
       "mean    506.560277     4.247356\n",
       "std     289.401569     2.871127\n",
       "min       0.541664     0.066098\n",
       "25%     266.499774     2.207631\n",
       "50%     513.919807     3.554632\n",
       "75%     741.870036     5.750241\n",
       "max    1031.537303    17.050303"
      ]
     },
     "execution_count": 5,
     "metadata": {},
     "output_type": "execute_result"
    }
   ],
   "source": [
    "simulate_burst(1000).describe()"
   ]
  },
  {
   "cell_type": "code",
   "execution_count": 6,
   "metadata": {},
   "outputs": [
    {
     "data": {
      "text/html": [
       "<div>\n",
       "<style scoped>\n",
       "    .dataframe tbody tr th:only-of-type {\n",
       "        vertical-align: middle;\n",
       "    }\n",
       "\n",
       "    .dataframe tbody tr th {\n",
       "        vertical-align: top;\n",
       "    }\n",
       "\n",
       "    .dataframe thead th {\n",
       "        text-align: right;\n",
       "    }\n",
       "</style>\n",
       "<table border=\"1\" class=\"dataframe\">\n",
       "  <thead>\n",
       "    <tr style=\"text-align: right;\">\n",
       "      <th></th>\n",
       "      <th>otime_us</th>\n",
       "      <th>energy_kj</th>\n",
       "    </tr>\n",
       "  </thead>\n",
       "  <tbody>\n",
       "    <tr>\n",
       "      <th>count</th>\n",
       "      <td>996.000000</td>\n",
       "      <td>996.000000</td>\n",
       "    </tr>\n",
       "    <tr>\n",
       "      <th>mean</th>\n",
       "      <td>498.045568</td>\n",
       "      <td>4.385513</td>\n",
       "    </tr>\n",
       "    <tr>\n",
       "      <th>std</th>\n",
       "      <td>287.746567</td>\n",
       "      <td>33.995733</td>\n",
       "    </tr>\n",
       "    <tr>\n",
       "      <th>min</th>\n",
       "      <td>0.940633</td>\n",
       "      <td>-246.000000</td>\n",
       "    </tr>\n",
       "    <tr>\n",
       "      <th>25%</th>\n",
       "      <td>249.466874</td>\n",
       "      <td>1.940490</td>\n",
       "    </tr>\n",
       "    <tr>\n",
       "      <th>50%</th>\n",
       "      <td>497.730739</td>\n",
       "      <td>3.559943</td>\n",
       "    </tr>\n",
       "    <tr>\n",
       "      <th>75%</th>\n",
       "      <td>746.774461</td>\n",
       "      <td>5.958558</td>\n",
       "    </tr>\n",
       "    <tr>\n",
       "      <th>max</th>\n",
       "      <td>998.868280</td>\n",
       "      <td>286.000000</td>\n",
       "    </tr>\n",
       "  </tbody>\n",
       "</table>\n",
       "</div>"
      ],
      "text/plain": [
       "         otime_us   energy_kj\n",
       "count  996.000000  996.000000\n",
       "mean   498.045568    4.385513\n",
       "std    287.746567   33.995733\n",
       "min      0.940633 -246.000000\n",
       "25%    249.466874    1.940490\n",
       "50%    497.730739    3.559943\n",
       "75%    746.774461    5.958558\n",
       "max    998.868280  286.000000"
      ]
     },
     "execution_count": 6,
     "metadata": {},
     "output_type": "execute_result"
    }
   ],
   "source": [
    "df.describe()"
   ]
  },
  {
   "cell_type": "markdown",
   "metadata": {},
   "source": [
    "Q2. TODO *Your engineers tell you that all energy readings should be positive. Are there any negative values in either of the datasets? If so, is there any unexpected pattern to those values in terms of times they occur or values they take on?*"
   ]
  },
  {
   "cell_type": "code",
   "execution_count": 9,
   "metadata": {},
   "outputs": [],
   "source": [
    "df_orig = load_data('part.csv') \n",
    "df = df_orig[df_orig['energy_kj'] > 0]\n",
    "df = load_data('part.csv') "
   ]
  },
  {
   "cell_type": "markdown",
   "metadata": {},
   "source": [
    "Q3. TODO *Are there any other energy readings that are suspect in the real dataset? Roughly what fraction of values are suspect*"
   ]
  },
  {
   "cell_type": "code",
   "execution_count": 25,
   "metadata": {},
   "outputs": [],
   "source": [
    "#Code for Q3"
   ]
  },
  {
   "cell_type": "markdown",
   "metadata": {},
   "source": [
    "Based on your answers to Q1, Q2, Q3, write a function that cleans the real data by removing all problematic observations. "
   ]
  },
  {
   "cell_type": "code",
   "execution_count": 10,
   "metadata": {},
   "outputs": [],
   "source": [
    "def clean(df):\n",
    "    \"\"\"\n",
    "       Input: a dataframe of a mix of erroneous and correct observations \n",
    "       Output: a dataframe with only the correct observations\n",
    "    \"\"\"\n",
    "    \n",
    "    return df[(df['energy_kj'] > 0) & (df['energy_kj'] < 20)]"
   ]
  },
  {
   "cell_type": "markdown",
   "metadata": {},
   "source": [
    "## Comparing the Energies\n",
    "Now, we will compare the particle energies from the simulated data and the real data. Fill in the following hypothesis tests. *Be reasonable about this* You may not import methods from statistics packages that perform the test for you."
   ]
  },
  {
   "cell_type": "code",
   "execution_count": 16,
   "metadata": {},
   "outputs": [
    {
     "name": "stdout",
     "output_type": "stream",
     "text": [
      "Two-Sample Z-Test:  0.30617660754744647\n"
     ]
    }
   ],
   "source": [
    "from scipy.stats import *\n",
    "import numpy as np\n",
    "\n",
    "def z_test_energy(simulated, real):\n",
    "    \"\"\"Input: a dataframe of simulated observations, a dataframe of real observations \n",
    "       Output: a p-value based on the two-sample z-test\n",
    "    \"\"\"\n",
    "    \n",
    "    diff = np.abs(np.mean(simulated['energy_kj']) - np.mean(real['energy_kj']))\n",
    "    \n",
    "    se = np.sqrt(sem(simulated['energy_kj'])**2 + sem(real['energy_kj'])**2 )\n",
    "    \n",
    "    return (1-norm.cdf(diff/se))*2, (1-norm.cdf(diff/se))\n",
    "\n",
    "\n",
    "#get the data\n",
    "simulated = simulate_burst(10000)\n",
    "real =  clean(load_data('part.csv'))\n",
    "print('Two-Sample Z-Test: ', z_test_energy(simulated, real))"
   ]
  },
  {
   "cell_type": "markdown",
   "metadata": {},
   "source": [
    "There are a few parameters here that we selected: (1) how much data to simulate, and (2) we cleaned the real dataset prior to testing. Evaluate the effects of these choices.\n",
    "\n",
    "Q1. TODO *Would it be beneficial to simulate 1e6 data points rather than the 10000 used above, why or why not?*"
   ]
  },
  {
   "cell_type": "code",
   "execution_count": null,
   "metadata": {},
   "outputs": [],
   "source": [
    "#Code for Q1"
   ]
  },
  {
   "cell_type": "markdown",
   "metadata": {},
   "source": [
    "Q2. TODO *Do the p-values change if you did not clean the dataset? Are both tests equally sensitive to the dirty data?*"
   ]
  },
  {
   "cell_type": "code",
   "execution_count": null,
   "metadata": {},
   "outputs": [],
   "source": [
    "#Code for Q2"
   ]
  },
  {
   "cell_type": "markdown",
   "metadata": {},
   "source": [
    "## Comparing the Arrival Times\n",
    "So far, we have only tested the particle energies. Another important aspect of our model is the arrival process (i.e., the times). \n",
    "\n",
    "Q1. TODO *Describe a hypothesis test that evaluates whether the arrival process significantly differs in the simulator from the observed data.*"
   ]
  },
  {
   "cell_type": "markdown",
   "metadata": {},
   "source": [
    "Q2. TODO *Do your pre-processing choice above change? Why or why not?*"
   ]
  },
  {
   "cell_type": "code",
   "execution_count": null,
   "metadata": {},
   "outputs": [],
   "source": [
    "def test_arrival_process(simulated, real):\n",
    "    \"\"\"TODO\n",
    "    \n",
    "       Input: a dataframe of simulated observations, a dataframe of real observations \n",
    "       Output: a p-value that determines the difference between the arrival processes\n",
    "    \"\"\"\n",
    "    \n",
    "    raise ValueError(\"NotImplemented: You must implement rs_test_energy\")"
   ]
  }
 ],
 "metadata": {
  "kernelspec": {
   "display_name": "Python 3",
   "language": "python",
   "name": "python3"
  },
  "language_info": {
   "codemirror_mode": {
    "name": "ipython",
    "version": 3
   },
   "file_extension": ".py",
   "mimetype": "text/x-python",
   "name": "python",
   "nbconvert_exporter": "python",
   "pygments_lexer": "ipython3",
   "version": "3.7.4"
  }
 },
 "nbformat": 4,
 "nbformat_minor": 2
}
